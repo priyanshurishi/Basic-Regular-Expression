{
  "nbformat": 4,
  "nbformat_minor": 0,
  "metadata": {
    "colab": {
      "name": "RE.ipynb",
      "provenance": [],
      "collapsed_sections": [],
      "authorship_tag": "ABX9TyN51N8zFCY3E1PmH4KQYMlP",
      "include_colab_link": true
    },
    "kernelspec": {
      "name": "python3",
      "display_name": "Python 3"
    }
  },
  "cells": [
    {
      "cell_type": "markdown",
      "metadata": {
        "id": "view-in-github",
        "colab_type": "text"
      },
      "source": [
        "<a href=\"https://colab.research.google.com/github/priyanshurishi/Basic-Regular-Expression/blob/main/RE.ipynb\" target=\"_parent\"><img src=\"https://colab.research.google.com/assets/colab-badge.svg\" alt=\"Open In Colab\"/></a>"
      ]
    },
    {
      "cell_type": "code",
      "metadata": {
        "id": "RYo_CEI1RG6x"
      },
      "source": [
        "import re"
      ],
      "execution_count": null,
      "outputs": []
    },
    {
      "cell_type": "code",
      "metadata": {
        "id": "rxF5vRePRj_l",
        "outputId": "909f737e-cac4-4474-ee5a-3cf880b99c8c",
        "colab": {
          "base_uri": "https://localhost:8080/",
          "height": 34
        }
      },
      "source": [
        "#Searching\n",
        "txt=\"The rain in Spain\"\n",
        "x=re.search(\"^The.*Spain$\",txt)\n",
        "if x:\n",
        "  print(\"Yes! We have a match!\")\n",
        "else:\n",
        "  print(\"No match!\")"
      ],
      "execution_count": null,
      "outputs": [
        {
          "output_type": "stream",
          "text": [
            "Yes! We have a match!\n"
          ],
          "name": "stdout"
        }
      ]
    },
    {
      "cell_type": "code",
      "metadata": {
        "id": "0_kA2GaBSfCz",
        "outputId": "9919c115-f075-487d-fd6d-4946830139dc",
        "colab": {
          "base_uri": "https://localhost:8080/",
          "height": 34
        }
      },
      "source": [
        "x1=re.search(\"Portugal\",txt)\n",
        "if x1:\n",
        "  print(\"Yes! We have a match!\")\n",
        "else:\n",
        "  print(\"No match!\")"
      ],
      "execution_count": null,
      "outputs": [
        {
          "output_type": "stream",
          "text": [
            "No match!\n"
          ],
          "name": "stdout"
        }
      ]
    },
    {
      "cell_type": "code",
      "metadata": {
        "id": "CMI7pcsCTJUs",
        "outputId": "15e55aa2-afe2-450b-d0b4-46b3e1412ca7",
        "colab": {
          "base_uri": "https://localhost:8080/",
          "height": 34
        }
      },
      "source": [
        "#finding \n",
        "x2=re.findall(\"[a-z]\",txt)\n",
        "print(x2)\n"
      ],
      "execution_count": null,
      "outputs": [
        {
          "output_type": "stream",
          "text": [
            "['h', 'e', 'r', 'a', 'i', 'n', 'i', 'n', 'p', 'a', 'i', 'n']\n"
          ],
          "name": "stdout"
        }
      ]
    },
    {
      "cell_type": "code",
      "metadata": {
        "id": "Qg07ABoJUVJ3",
        "outputId": "a8873510-8cdd-44e0-ba11-6a433b00c200",
        "colab": {
          "base_uri": "https://localhost:8080/",
          "height": 34
        }
      },
      "source": [
        "#findall phone number\n",
        "txt1 = \"9835032880 1223345\"\n",
        "x3=re.findall(\"[0-9]{10}\",txt1)\n",
        "print(x3)"
      ],
      "execution_count": null,
      "outputs": [
        {
          "output_type": "stream",
          "text": [
            "['9835032880']\n"
          ],
          "name": "stdout"
        }
      ]
    },
    {
      "cell_type": "code",
      "metadata": {
        "id": "txMjOkKmV3dp",
        "outputId": "f4dac372-cf86-48ae-d98e-883aa266a52a",
        "colab": {
          "base_uri": "https://localhost:8080/",
          "height": 34
        }
      },
      "source": [
        "# for USA number\n",
        "import re\n",
        "\n",
        "phonenumber= \"516-111-2222\"\n",
        "\n",
        "regex= \"\\w{3}-\\w{3}-\\w{4}\"\n",
        "\n",
        "if re.search(regex, phonenumber):\n",
        "        print(\"Valid phone number\")\n",
        "else:\n",
        "        print(\"Invalid phone number\")\n",
        "\n"
      ],
      "execution_count": null,
      "outputs": [
        {
          "output_type": "stream",
          "text": [
            "Valid phone number\n"
          ],
          "name": "stdout"
        }
      ]
    },
    {
      "cell_type": "code",
      "metadata": {
        "id": "K0DIF2qwaVBK",
        "outputId": "6ac2af5a-2650-4bc0-b03d-d5c84c8ce5ad",
        "colab": {
          "base_uri": "https://localhost:8080/",
          "height": 34
        }
      },
      "source": [
        "# for indian numbers\n",
        "import re\n",
        "\n",
        "phonenumber= \"+919321654316\"\n",
        "\n",
        "regex= \"^((0091)|(\\+91)|0?)[6789]{1}\\d{9}$\"\n",
        "\n",
        "if re.search(regex, phonenumber):\n",
        "        print(\"Valid phone number\")\n",
        "else:\n",
        "        print(\"Invalid phone number\")\n",
        "\n"
      ],
      "execution_count": null,
      "outputs": [
        {
          "output_type": "stream",
          "text": [
            "Valid phone number\n"
          ],
          "name": "stdout"
        }
      ]
    },
    {
      "cell_type": "code",
      "metadata": {
        "id": "iA5QQ93-6uZm"
      },
      "source": [
        "#PRACTISE"
      ],
      "execution_count": null,
      "outputs": []
    },
    {
      "cell_type": "code",
      "metadata": {
        "id": "LfR2-Jmm6v3M",
        "outputId": "20a2c58e-cd1b-478e-bbe5-a23138fd0e6d",
        "colab": {
          "base_uri": "https://localhost:8080/",
          "height": 34
        }
      },
      "source": [
        "import re\n",
        "\n",
        "txt='The rain in Spain'\n",
        "x=re.search(\"^The.*Spain$\",txt)\n",
        "#print(x)\n",
        "if x:\n",
        "  print(\"Yes! we have a match.\")\n",
        "else:\n",
        "  print(\"No match\")"
      ],
      "execution_count": null,
      "outputs": [
        {
          "output_type": "stream",
          "text": [
            "Yes! we have a match.\n"
          ],
          "name": "stdout"
        }
      ]
    },
    {
      "cell_type": "code",
      "metadata": {
        "id": "ufxTZHNK7GmU",
        "outputId": "46528899-c049-4e07-f2dc-20061a508c3b",
        "colab": {
          "base_uri": "https://localhost:8080/",
          "height": 50
        }
      },
      "source": [
        "txt=\"The rain in Spain\"\n",
        "x=re.search(\"rain\",txt)\n",
        "print(x)\n",
        "if x:\n",
        "  print(\"Yes! we have a match.\")\n",
        "else:\n",
        "  print(\"No match\")"
      ],
      "execution_count": null,
      "outputs": [
        {
          "output_type": "stream",
          "text": [
            "<_sre.SRE_Match object; span=(4, 8), match='rain'>\n",
            "Yes! we have a match.\n"
          ],
          "name": "stdout"
        }
      ]
    },
    {
      "cell_type": "code",
      "metadata": {
        "id": "r1fm4qwf7Ua7",
        "outputId": "f5421c19-5933-4800-d2cb-7ef48832a7e2",
        "colab": {
          "base_uri": "https://localhost:8080/",
          "height": 34
        }
      },
      "source": [
        "txt=\"The rain in Spain\"\n",
        "x=re.findall(\"[a-z]|[T,S]\",txt)\n",
        "print(x)"
      ],
      "execution_count": null,
      "outputs": [
        {
          "output_type": "stream",
          "text": [
            "['T', 'h', 'e', 'r', 'a', 'i', 'n', 'i', 'n', 'S', 'p', 'a', 'i', 'n']\n"
          ],
          "name": "stdout"
        }
      ]
    },
    {
      "cell_type": "code",
      "metadata": {
        "id": "J1_akiJf9TEk",
        "outputId": "25332e0a-c80d-4127-b66b-fcf622f66281",
        "colab": {
          "base_uri": "https://localhost:8080/",
          "height": 34
        }
      },
      "source": [
        "txt=\"That is 59 dollars\"\n",
        "x=re.findall(\"\\d\",txt)\n",
        "print(x)"
      ],
      "execution_count": null,
      "outputs": [
        {
          "output_type": "stream",
          "text": [
            "['5', '9']\n"
          ],
          "name": "stdout"
        }
      ]
    },
    {
      "cell_type": "code",
      "metadata": {
        "id": "r50WZv2x-L5C",
        "outputId": "e565dc50-15f8-455c-b351-f6b1fe8a3aad",
        "colab": {
          "base_uri": "https://localhost:8080/",
          "height": 34
        }
      },
      "source": [
        "txt=\"the rain in Spain falls mainly in pain\"\n",
        "x=re.findall(\"al{2}\",txt)\n",
        "if x:\n",
        "  print(\"There is a match\")\n",
        "else:\n",
        "  print(\"No match\")"
      ],
      "execution_count": null,
      "outputs": [
        {
          "output_type": "stream",
          "text": [
            "There is a match\n"
          ],
          "name": "stdout"
        }
      ]
    },
    {
      "cell_type": "code",
      "metadata": {
        "id": "9rhkP-QEDJXH",
        "outputId": "1f86df01-b99e-44c9-dd6d-c39e3d988805",
        "colab": {
          "base_uri": "https://localhost:8080/",
          "height": 34
        }
      },
      "source": [
        "import re \n",
        "\n",
        "def isValid(s): \n",
        "      \n",
        "    Pattern = re.compile(\"[0/91/+91]?[7-9][0-9]{9}\") \n",
        "    return Pattern.match(s) \n",
        "  \n",
        "s = \"+917411541144\"\n",
        "if (isValid(s)):  \n",
        "    print (\"Valid Number\")      \n",
        "else : \n",
        "    print (\"Invalid Number\") "
      ],
      "execution_count": null,
      "outputs": [
        {
          "output_type": "stream",
          "text": [
            "Valid Number\n"
          ],
          "name": "stdout"
        }
      ]
    }
  ]
}